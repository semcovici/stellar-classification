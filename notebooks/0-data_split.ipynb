{
 "cells": [
  {
   "cell_type": "code",
   "execution_count": 12,
   "id": "9f7f3b9c",
   "metadata": {},
   "outputs": [
    {
     "name": "stdout",
     "output_type": "stream",
     "text": [
      "10000 70000 20000\n",
      "class\n",
      "GALAXY    0.5945\n",
      "STAR      0.2159\n",
      "QSO       0.1896\n",
      "Name: proportion, dtype: float64\n",
      "class\n",
      "GALAXY    0.594443\n",
      "STAR      0.215943\n",
      "QSO       0.189614\n",
      "Name: proportion, dtype: float64\n",
      "class\n",
      "GALAXY    0.59445\n",
      "STAR      0.21595\n",
      "QSO       0.18960\n",
      "Name: proportion, dtype: float64\n"
     ]
    }
   ],
   "source": [
    "from sklearn.model_selection import train_test_split\n",
    "import pandas as pd\n",
    "from decimal import Decimal\n",
    "\n",
    "raw_data_dir = \"../data/raw/\"\n",
    "raw_data_filename = \"star_classification.csv\"\n",
    "df = pd.read_csv(raw_data_dir + raw_data_filename)\n",
    "\n",
    "\n",
    "\n",
    "anl_size = Decimal(\"0.1\")\n",
    "test_size = Decimal(\"0.2\")\n",
    "train_size = Decimal(\"0.7\")\n",
    "\n",
    "# suppose your full DataFrame is called df, and the column to stratify on is 'class'\n",
    "temp_size = train_size + test_size\n",
    "# 1) split off 10% of the data\n",
    "df_anl, df_temp = train_test_split(\n",
    "    df,\n",
    "    test_size=float(temp_size),              # leave 90% in df_temp\n",
    "    stratify=df['class'],        # keep class proportions\n",
    "    random_state=42              # any integer for reproducibility\n",
    ")\n",
    "\n",
    "# 2) split the remaining 90% into 70% and 20% of the original\n",
    "#    since df_temp is 90% of the data, we need test_size = (20/90) ≈ 0.2222\n",
    "df_train, df_test = train_test_split(\n",
    "    df_temp,\n",
    "    test_size=float(test_size/temp_size),             # ≈ 0.2222 → 20% of original\n",
    "    stratify=df_temp['class'],   # still stratify on the same column\n",
    "    random_state=42\n",
    ")\n",
    "\n",
    "# Sanity check\n",
    "print(len(df_anl), len(df_train), len(df_test))            # should be roughly 0.10, 0.70, 0.20 × len(df)\n",
    "print(df_anl['class'].value_counts(normalize=True))  # proportions should match those in df\n",
    "print(df_train['class'].value_counts(normalize=True))\n",
    "print(df_test['class'].value_counts(normalize=True))\n",
    "\n",
    "\n",
    "df_anl.to_csv(raw_data_dir + 'analysis.csv', index=False)\n",
    "df_train.to_csv(raw_data_dir + 'train.csv', index=False)\n",
    "df_test.to_csv(raw_data_dir + 'test.csv', index=False)"
   ]
  }
 ],
 "metadata": {
  "kernelspec": {
   "display_name": ".venv",
   "language": "python",
   "name": "python3"
  },
  "language_info": {
   "codemirror_mode": {
    "name": "ipython",
    "version": 3
   },
   "file_extension": ".py",
   "mimetype": "text/x-python",
   "name": "python",
   "nbconvert_exporter": "python",
   "pygments_lexer": "ipython3",
   "version": "3.12.4"
  }
 },
 "nbformat": 4,
 "nbformat_minor": 5
}
